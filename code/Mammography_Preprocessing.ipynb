{
  "nbformat": 4,
  "nbformat_minor": 0,
  "metadata": {
    "colab": {
      "provenance": [],
      "gpuType": "T4"
    },
    "kernelspec": {
      "name": "python3",
      "display_name": "Python 3"
    },
    "language_info": {
      "name": "python"
    },
    "accelerator": "GPU"
  },
  "cells": [
    {
      "cell_type": "markdown",
      "source": [
        "# **Import All Necessary Libaries**"
      ],
      "metadata": {
        "id": "H1h_MUomAUIR"
      }
    },
    {
      "cell_type": "code",
      "source": [
        "import os  # Helps us work with files and directories on our computer (like loading images from folders)\n",
        "import numpy as np  # A go-to library for handling data in arrays and performing math operations on them\n",
        "import tensorflow as tf  # The core library for building and training deep learning models, like neural networks\n",
        "#from tensorflow.keras.preprocessing.image import ImageDataGenerator  # Used for image preprocessing and augmentation to make our models more robust\n",
        "from sklearn.model_selection import train_test_split  # Splits our data into training and testing sets so we can evaluate model performance\n",
        "from PIL import Image  # A handy tool for opening, editing, and manipulating images (like converting to grayscale or resizing)\n"
      ],
      "metadata": {
        "id": "Rgz2LT10ASeE"
      },
      "execution_count": 1,
      "outputs": []
    },
    {
      "cell_type": "code",
      "source": [
        "from google.colab import drive\n",
        "drive.mount('/content/drive')"
      ],
      "metadata": {
        "id": "xnf-va0Wvr1P"
      },
      "execution_count": null,
      "outputs": []
    },
    {
      "cell_type": "markdown",
      "source": [
        "# **Mount The Drive And Load Data**"
      ],
      "metadata": {
        "id": "KY8h_ig3Abx6"
      }
    },
    {
      "cell_type": "code",
      "execution_count": 2,
      "metadata": {
        "id": "r2eBOSE9-x0K",
        "colab": {
          "base_uri": "https://localhost:8080/"
        },
        "outputId": "e5084581-3c50-4e21-d702-19da127665c5"
      },
      "outputs": [
        {
          "output_type": "stream",
          "name": "stdout",
          "text": [
            "Number of Benign Samples: 10866\n",
            "Number of Malignant Samples: 13719\n"
          ]
        }
      ],
      "source": [
        "#from google.colab import drive #for drive related functions like loading and labeling data\n",
        "#drive.mount('/content/drive') #mount the drive\n",
        "\n",
        "dataset_path = '/content/drive/MyDrive/MammographyDataset' #path for the entire dataset\n",
        "benign_path = os.path.join(dataset_path, 'Benign Masses') #append for benign masses\n",
        "malignant_path = os.path.join(dataset_path, 'Malignant Masses')#append for malignant masses\n",
        "\n",
        "#Data Analysis\n",
        "#count the samples for both classes\n",
        "benign_count = len([f for f in os.listdir(benign_path) if os.path.isfile(os.path.join(benign_path, f))])\n",
        "malignant_count = len([f for f in os.listdir(malignant_path) if os.path.isfile(os.path.join(malignant_path, f))])\n",
        "\n",
        "print(f\"Number of Benign Samples: {benign_count}\")\n",
        "print(f\"Number of Malignant Samples: {malignant_count}\")\n"
      ]
    },
    {
      "cell_type": "markdown",
      "source": [
        "# **Load Images Function**\n",
        "**Load the images**\n",
        "\n",
        "**Convert to Greyscale**\n",
        "\n",
        "**Normalize Pixel Values**\n",
        "\n",
        "**Resize to have same size images**\n",
        "\n",
        "**Save the labels**"
      ],
      "metadata": {
        "id": "zxas-uoGMOdL"
      }
    },
    {
      "cell_type": "code",
      "source": [
        "def load_images_and_labels(folder_path, label):\n",
        "  #lists to hold images and labels\n",
        "    images = []\n",
        "    labels = []\n",
        "    # Loop that iterates over each file in the specified folder\n",
        "    for filename in os.listdir(folder_path):\n",
        "      #get full file name with path\n",
        "        file_path = os.path.join(folder_path, filename)\n",
        "        #make sure its not a folder\n",
        "        if os.path.isfile(file_path):\n",
        "            #Load the images, convert to greyscale\n",
        "            img = Image.open(file_path).convert('L')\n",
        "            img = img.resize((224, 224))  # Resize the images to same size\n",
        "            images.append(np.array(img) / 255.0)  # Normalize pixel values (between 0 and 1)\n",
        "            labels.append(label)#add the labels\n",
        "    return images, labels"
      ],
      "metadata": {
        "id": "Go-o6Vw1AQ1t"
      },
      "execution_count": 3,
      "outputs": []
    },
    {
      "cell_type": "markdown",
      "source": [
        "\n",
        "**Call the load function for both class folders**\n",
        "\n",
        "**Combine the both class samples**\n",
        "\n",
        "**Split into training and testing Data**"
      ],
      "metadata": {
        "id": "37fABLnbM_vR"
      }
    },
    {
      "cell_type": "code",
      "source": [
        "#call the load function\n",
        "benign_images, benign_labels = load_images_and_labels(benign_path, 0)  # Label 0 for benign\n",
        "malignant_images, malignant_labels = load_images_and_labels(malignant_path, 1)  # Label 1 for malignant\n",
        "\n",
        "#combine images of both classes\n",
        "images = np.array(benign_images + malignant_images)\n",
        "#combine labels\n",
        "labels = np.array(benign_labels + malignant_labels)\n",
        "\n",
        "#Split into training, validation, and test sets\n",
        "X_train, X_temp, y_train, y_temp = train_test_split(images, labels, test_size=0.3, random_state=42)\n",
        "X_val, X_test, y_val, y_test = train_test_split(X_temp, y_temp, test_size=0.33, random_state=42)\n",
        "print(f\"Training samples: {len(X_train)}, Validation samples: {len(X_val)}, Test samples: {len(X_test)}\")"
      ],
      "metadata": {
        "id": "HbkiO28nCcgV",
        "colab": {
          "base_uri": "https://localhost:8080/"
        },
        "outputId": "52e93c08-60d5-46e4-82ae-2d03cf87396e"
      },
      "execution_count": 2,
      "outputs": [
        {
          "output_type": "stream",
          "name": "stdout",
          "text": [
            "Training samples: 17210, Validation samples: 2431, Test samples: 4945\n"
          ]
        }
      ]
    }
  ]
}